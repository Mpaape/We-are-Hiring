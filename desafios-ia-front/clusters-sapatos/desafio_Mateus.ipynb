{
 "cells": [
  {
   "cell_type": "markdown",
   "metadata": {},
   "source": [
    "# Clusters de sapatos - Mateus Magnus Paape\n",
    "\n",
    "## Introdução\n",
    "\n",
    "Um dos maiores problemas do e-commerce é agrupar produtos baseado na visão do usuário e não em características como cor, preço e fabricante. Uma necessidade é corrigir preços.\n",
    "\n",
    "Uma das formas de atacar este problema é usando as features conhecidas (preço, cores, fabricante, categorias da estrutura mercadológica, etc) par agerar um vetor que represente o produto, e encontrar clusters que os agrupem usando alguma métrica de distância vetorial.\n",
    "\n",
    "Vamos atacar este problema com um dataset de sapatos."
   ]
  },
  {
   "cell_type": "markdown",
   "metadata": {},
   "source": [
    "## Dados\n",
    "\n",
    "Temos um conjunto de dados de registros de vendas de sapatos, cada sapato está identificado por um *id* único, e as linhas o apresentam em diversas ofertas de lojas onlne com cores, a categorização do site em que é ofertado, condição da oferta (novo ou usado), marca e preço cobrado."
   ]
  },
  {
   "cell_type": "code",
   "execution_count": 289,
   "metadata": {},
   "outputs": [],
   "source": [
    "import pandas as pd\n",
    "df = pd.read_json(\"shoes.json\", orient=\"records\", lines=True)"
   ]
  },
  {
   "cell_type": "code",
   "execution_count": 290,
   "metadata": {},
   "outputs": [
    {
     "data": {
      "text/html": [
       "<div>\n",
       "<style scoped>\n",
       "    .dataframe tbody tr th:only-of-type {\n",
       "        vertical-align: middle;\n",
       "    }\n",
       "\n",
       "    .dataframe tbody tr th {\n",
       "        vertical-align: top;\n",
       "    }\n",
       "\n",
       "    .dataframe thead th {\n",
       "        text-align: right;\n",
       "    }\n",
       "</style>\n",
       "<table border=\"1\" class=\"dataframe\">\n",
       "  <thead>\n",
       "    <tr style=\"text-align: right;\">\n",
       "      <th></th>\n",
       "      <th>id</th>\n",
       "      <th>brand</th>\n",
       "      <th>categories</th>\n",
       "      <th>colors</th>\n",
       "      <th>condition</th>\n",
       "      <th>isSale</th>\n",
       "      <th>price</th>\n",
       "    </tr>\n",
       "  </thead>\n",
       "  <tbody>\n",
       "    <tr>\n",
       "      <th>0</th>\n",
       "      <td>AVpfEf_hLJeJML431ueH</td>\n",
       "      <td>Naturalizer</td>\n",
       "      <td>[Clothing, Heels, All Women's Shoes, Shoes, Sa...</td>\n",
       "      <td>[Silver, Cream]</td>\n",
       "      <td>USED</td>\n",
       "      <td>False</td>\n",
       "      <td>55.990</td>\n",
       "    </tr>\n",
       "    <tr>\n",
       "      <th>1</th>\n",
       "      <td>AVpi74XfLJeJML43qZAc</td>\n",
       "      <td>MUK LUKS</td>\n",
       "      <td>[Clothing, All Women's Shoes, Women's Casual S...</td>\n",
       "      <td>[Grey]</td>\n",
       "      <td>NEW</td>\n",
       "      <td>True</td>\n",
       "      <td>41.125</td>\n",
       "    </tr>\n",
       "    <tr>\n",
       "      <th>2</th>\n",
       "      <td>AVpi74XfLJeJML43qZAc</td>\n",
       "      <td>MUK LUKS</td>\n",
       "      <td>[Clothing, All Women's Shoes, Women's Casual S...</td>\n",
       "      <td>[Grey]</td>\n",
       "      <td>NEW</td>\n",
       "      <td>False</td>\n",
       "      <td>35.250</td>\n",
       "    </tr>\n",
       "    <tr>\n",
       "      <th>3</th>\n",
       "      <td>AVpjXyCc1cnluZ0-V-Gj</td>\n",
       "      <td>MUK LUKS</td>\n",
       "      <td>[Clothing, All Women's Shoes, Shoes, Women's S...</td>\n",
       "      <td>[Black]</td>\n",
       "      <td>NEW</td>\n",
       "      <td>False</td>\n",
       "      <td>24.750</td>\n",
       "    </tr>\n",
       "    <tr>\n",
       "      <th>4</th>\n",
       "      <td>AVphGKLPilAPnD_x1Nrm</td>\n",
       "      <td>MUK LUKS</td>\n",
       "      <td>[Clothing, All Women's Shoes, Shoes, Women's S...</td>\n",
       "      <td>[Grey]</td>\n",
       "      <td>NEW</td>\n",
       "      <td>True</td>\n",
       "      <td>31.695</td>\n",
       "    </tr>\n",
       "    <tr>\n",
       "      <th>5</th>\n",
       "      <td>AVpg91ziilAPnD_xziOo</td>\n",
       "      <td>Soft Ones</td>\n",
       "      <td>[Clothing, All Womens Shoes, All Women's Shoes...</td>\n",
       "      <td>[Brown]</td>\n",
       "      <td>NEW</td>\n",
       "      <td>True</td>\n",
       "      <td>10.950</td>\n",
       "    </tr>\n",
       "    <tr>\n",
       "      <th>6</th>\n",
       "      <td>AVpjGKXyLJeJML43r8BH</td>\n",
       "      <td>MUK LUKS</td>\n",
       "      <td>[Clothing, Women's Casual Shoes, All Women's S...</td>\n",
       "      <td>[Navy, Burgundy, Brown, Purple, Black, Natural...</td>\n",
       "      <td>USED</td>\n",
       "      <td>False</td>\n",
       "      <td>18.395</td>\n",
       "    </tr>\n",
       "    <tr>\n",
       "      <th>7</th>\n",
       "      <td>AVpjGKXyLJeJML43r8BH</td>\n",
       "      <td>MUK LUKS</td>\n",
       "      <td>[Clothing, Women's Casual Shoes, All Women's S...</td>\n",
       "      <td>[Navy, Burgundy, Brown, Purple, Black, Natural...</td>\n",
       "      <td>USED</td>\n",
       "      <td>False</td>\n",
       "      <td>18.395</td>\n",
       "    </tr>\n",
       "    <tr>\n",
       "      <th>8</th>\n",
       "      <td>AVpfLXyhilAPnD_xWmNc</td>\n",
       "      <td>MUK LUKS</td>\n",
       "      <td>[Clothing, Shoes, Women's Shoes, All Women's S...</td>\n",
       "      <td>[Grey, Navy]</td>\n",
       "      <td>NEW</td>\n",
       "      <td>True</td>\n",
       "      <td>49.440</td>\n",
       "    </tr>\n",
       "    <tr>\n",
       "      <th>9</th>\n",
       "      <td>AVpfeWdJ1cnluZ0-lXYU</td>\n",
       "      <td>MUK LUKS</td>\n",
       "      <td>[Clothing, All Women's Shoes, Shoes, Women's B...</td>\n",
       "      <td>[Brown]</td>\n",
       "      <td>NEW</td>\n",
       "      <td>True</td>\n",
       "      <td>53.495</td>\n",
       "    </tr>\n",
       "  </tbody>\n",
       "</table>\n",
       "</div>"
      ],
      "text/plain": [
       "                     id        brand  \\\n",
       "0  AVpfEf_hLJeJML431ueH  Naturalizer   \n",
       "1  AVpi74XfLJeJML43qZAc     MUK LUKS   \n",
       "2  AVpi74XfLJeJML43qZAc     MUK LUKS   \n",
       "3  AVpjXyCc1cnluZ0-V-Gj     MUK LUKS   \n",
       "4  AVphGKLPilAPnD_x1Nrm     MUK LUKS   \n",
       "5  AVpg91ziilAPnD_xziOo    Soft Ones   \n",
       "6  AVpjGKXyLJeJML43r8BH     MUK LUKS   \n",
       "7  AVpjGKXyLJeJML43r8BH     MUK LUKS   \n",
       "8  AVpfLXyhilAPnD_xWmNc     MUK LUKS   \n",
       "9  AVpfeWdJ1cnluZ0-lXYU     MUK LUKS   \n",
       "\n",
       "                                          categories  \\\n",
       "0  [Clothing, Heels, All Women's Shoes, Shoes, Sa...   \n",
       "1  [Clothing, All Women's Shoes, Women's Casual S...   \n",
       "2  [Clothing, All Women's Shoes, Women's Casual S...   \n",
       "3  [Clothing, All Women's Shoes, Shoes, Women's S...   \n",
       "4  [Clothing, All Women's Shoes, Shoes, Women's S...   \n",
       "5  [Clothing, All Womens Shoes, All Women's Shoes...   \n",
       "6  [Clothing, Women's Casual Shoes, All Women's S...   \n",
       "7  [Clothing, Women's Casual Shoes, All Women's S...   \n",
       "8  [Clothing, Shoes, Women's Shoes, All Women's S...   \n",
       "9  [Clothing, All Women's Shoes, Shoes, Women's B...   \n",
       "\n",
       "                                              colors condition  isSale   price  \n",
       "0                                    [Silver, Cream]      USED   False  55.990  \n",
       "1                                             [Grey]       NEW    True  41.125  \n",
       "2                                             [Grey]       NEW   False  35.250  \n",
       "3                                            [Black]       NEW   False  24.750  \n",
       "4                                             [Grey]       NEW    True  31.695  \n",
       "5                                            [Brown]       NEW    True  10.950  \n",
       "6  [Navy, Burgundy, Brown, Purple, Black, Natural...      USED   False  18.395  \n",
       "7  [Navy, Burgundy, Brown, Purple, Black, Natural...      USED   False  18.395  \n",
       "8                                       [Grey, Navy]       NEW    True  49.440  \n",
       "9                                            [Brown]       NEW    True  53.495  "
      ]
     },
     "execution_count": 290,
     "metadata": {},
     "output_type": "execute_result"
    }
   ],
   "source": [
    "df.head(10)"
   ]
  },
  {
   "cell_type": "markdown",
   "metadata": {},
   "source": [
    "As colunas seguintes estão presentes:\n",
    "\n",
    "* id: Código identificador de cada sapato\n",
    "* brand: Marca do sapato\n",
    "* categories: Categorias em que o sapato foi alocado no e-commerce onde a oferta é apresentada\n",
    "* colors: Cores disponíveis\n",
    "* condition: Se está usado ou novo.\n",
    "* price: Preço cobrado pelo e-commerce em que está sendo ofertado."
   ]
  },
  {
   "cell_type": "markdown",
   "metadata": {},
   "source": [
    "## Desafio\n",
    "\n",
    "1. Você deve usar o algoritmo de sua preferência para agrupar os sapatos de acordo com *condition*, *categories* e *colors* disponíveis gerando 4 clusters.\n",
    "\n",
    "2. Para cada cluster encontrado, você deve calcular o preço médio e o desvio padrão de preço.\n",
    "\n",
    "3. Como bônus, você pode apresentar os clusters num gráfico, mas essa etapa não é obrigatória.\n",
    "\n",
    "Para tanto, tenha em mente as seguintes observações:\n",
    "\n",
    "1. Um produto pode ser ofertado em mais de uma loja, portanto, pode aparecer mais de uma vez no conjunto de dados e ter valores para *categories*, *colors* e *condition* diferentes, você precisa reunir estes dados e criar um único registro para cada id.\n",
    "\n",
    "2. Campos como *brand*, *categories*, *colors* e *condition* são **categóricos**, dependêndo do algoritmo utilizado você vai precisar aplicar alguma técnica como [codificação one-hot](https://medium.com/@arthurlambletvaz/one-hot-encoding-o-que-%C3%A9-cd2e8d302ae0) quando (e se) for utilizá-los."
   ]
  },
  {
   "cell_type": "markdown",
   "metadata": {},
   "source": [
    "# Importando Libs"
   ]
  },
  {
   "cell_type": "code",
   "execution_count": 291,
   "metadata": {},
   "outputs": [],
   "source": [
    "import numpy as np\n",
    "import pandas as pd \n",
    "import matplotlib.pyplot as plt\n",
    "import seaborn as sns\n",
    "import matplotlib.gridspec as gridspec\n",
    "from wordcloud import WordCloud, STOPWORDS \n",
    "\n",
    "plt.style.use('seaborn')\n",
    "sns.set_style('whitegrid')\n",
    "%matplotlib inline\n",
    "\n",
    "import warnings\n",
    "warnings.simplefilter(action='ignore', category=FutureWarning)\n"
   ]
  },
  {
   "cell_type": "markdown",
   "metadata": {},
   "source": [
    "# Análise do data Frame"
   ]
  },
  {
   "cell_type": "code",
   "execution_count": 292,
   "metadata": {},
   "outputs": [
    {
     "name": "stdout",
     "output_type": "stream",
     "text": [
      "<class 'pandas.core.frame.DataFrame'>\n",
      "RangeIndex: 10000 entries, 0 to 9999\n",
      "Data columns (total 7 columns):\n",
      " #   Column      Non-Null Count  Dtype  \n",
      "---  ------      --------------  -----  \n",
      " 0   id          10000 non-null  object \n",
      " 1   brand       10000 non-null  object \n",
      " 2   categories  10000 non-null  object \n",
      " 3   colors      10000 non-null  object \n",
      " 4   condition   10000 non-null  object \n",
      " 5   isSale      10000 non-null  bool   \n",
      " 6   price       10000 non-null  float64\n",
      "dtypes: bool(1), float64(1), object(5)\n",
      "memory usage: 478.6+ KB\n"
     ]
    }
   ],
   "source": [
    "df.info()"
   ]
  },
  {
   "cell_type": "code",
   "execution_count": 293,
   "metadata": {},
   "outputs": [
    {
     "data": {
      "text/html": [
       "<div>\n",
       "<style scoped>\n",
       "    .dataframe tbody tr th:only-of-type {\n",
       "        vertical-align: middle;\n",
       "    }\n",
       "\n",
       "    .dataframe tbody tr th {\n",
       "        vertical-align: top;\n",
       "    }\n",
       "\n",
       "    .dataframe thead th {\n",
       "        text-align: right;\n",
       "    }\n",
       "</style>\n",
       "<table border=\"1\" class=\"dataframe\">\n",
       "  <thead>\n",
       "    <tr style=\"text-align: right;\">\n",
       "      <th></th>\n",
       "      <th>price</th>\n",
       "    </tr>\n",
       "  </thead>\n",
       "  <tbody>\n",
       "    <tr>\n",
       "      <th>count</th>\n",
       "      <td>10000.000000</td>\n",
       "    </tr>\n",
       "    <tr>\n",
       "      <th>mean</th>\n",
       "      <td>60.177376</td>\n",
       "    </tr>\n",
       "    <tr>\n",
       "      <th>std</th>\n",
       "      <td>18.786193</td>\n",
       "    </tr>\n",
       "    <tr>\n",
       "      <th>min</th>\n",
       "      <td>5.375000</td>\n",
       "    </tr>\n",
       "    <tr>\n",
       "      <th>25%</th>\n",
       "      <td>49.990000</td>\n",
       "    </tr>\n",
       "    <tr>\n",
       "      <th>50%</th>\n",
       "      <td>56.875000</td>\n",
       "    </tr>\n",
       "    <tr>\n",
       "      <th>75%</th>\n",
       "      <td>67.490000</td>\n",
       "    </tr>\n",
       "    <tr>\n",
       "      <th>max</th>\n",
       "      <td>359.950000</td>\n",
       "    </tr>\n",
       "  </tbody>\n",
       "</table>\n",
       "</div>"
      ],
      "text/plain": [
       "              price\n",
       "count  10000.000000\n",
       "mean      60.177376\n",
       "std       18.786193\n",
       "min        5.375000\n",
       "25%       49.990000\n",
       "50%       56.875000\n",
       "75%       67.490000\n",
       "max      359.950000"
      ]
     },
     "execution_count": 293,
     "metadata": {},
     "output_type": "execute_result"
    }
   ],
   "source": [
    "df.describe()"
   ]
  },
  {
   "cell_type": "code",
   "execution_count": 294,
   "metadata": {},
   "outputs": [
    {
     "data": {
      "text/html": [
       "<div>\n",
       "<style scoped>\n",
       "    .dataframe tbody tr th:only-of-type {\n",
       "        vertical-align: middle;\n",
       "    }\n",
       "\n",
       "    .dataframe tbody tr th {\n",
       "        vertical-align: top;\n",
       "    }\n",
       "\n",
       "    .dataframe thead th {\n",
       "        text-align: right;\n",
       "    }\n",
       "</style>\n",
       "<table border=\"1\" class=\"dataframe\">\n",
       "  <thead>\n",
       "    <tr style=\"text-align: right;\">\n",
       "      <th></th>\n",
       "      <th>count</th>\n",
       "      <th>unique</th>\n",
       "      <th>top</th>\n",
       "      <th>freq</th>\n",
       "    </tr>\n",
       "  </thead>\n",
       "  <tbody>\n",
       "    <tr>\n",
       "      <th>id</th>\n",
       "      <td>10000</td>\n",
       "      <td>653</td>\n",
       "      <td>AV46uYe4glJLPUi8VW57</td>\n",
       "      <td>185</td>\n",
       "    </tr>\n",
       "    <tr>\n",
       "      <th>brand</th>\n",
       "      <td>10000</td>\n",
       "      <td>129</td>\n",
       "      <td>journee collection</td>\n",
       "      <td>2182</td>\n",
       "    </tr>\n",
       "    <tr>\n",
       "      <th>categories</th>\n",
       "      <td>10000</td>\n",
       "      <td>198</td>\n",
       "      <td>[Shoes, Boots, Womens, Journee Collection]</td>\n",
       "      <td>835</td>\n",
       "    </tr>\n",
       "    <tr>\n",
       "      <th>colors</th>\n",
       "      <td>10000</td>\n",
       "      <td>203</td>\n",
       "      <td>[NA]</td>\n",
       "      <td>7369</td>\n",
       "    </tr>\n",
       "    <tr>\n",
       "      <th>condition</th>\n",
       "      <td>10000</td>\n",
       "      <td>2</td>\n",
       "      <td>USED</td>\n",
       "      <td>9562</td>\n",
       "    </tr>\n",
       "  </tbody>\n",
       "</table>\n",
       "</div>"
      ],
      "text/plain": [
       "            count unique                                         top  freq\n",
       "id          10000    653                        AV46uYe4glJLPUi8VW57   185\n",
       "brand       10000    129                          journee collection  2182\n",
       "categories  10000    198  [Shoes, Boots, Womens, Journee Collection]   835\n",
       "colors      10000    203                                        [NA]  7369\n",
       "condition   10000      2                                        USED  9562"
      ]
     },
     "execution_count": 294,
     "metadata": {},
     "output_type": "execute_result"
    }
   ],
   "source": [
    "df.describe(include=['object']).T"
   ]
  },
  {
   "cell_type": "markdown",
   "metadata": {},
   "source": [
    "Primeiramente, observamos que teremos que tratar as colunas categories e colors pois estão em lista. "
   ]
  },
  {
   "cell_type": "code",
   "execution_count": 295,
   "metadata": {},
   "outputs": [
    {
     "data": {
      "text/html": [
       "<div>\n",
       "<style scoped>\n",
       "    .dataframe tbody tr th:only-of-type {\n",
       "        vertical-align: middle;\n",
       "    }\n",
       "\n",
       "    .dataframe tbody tr th {\n",
       "        vertical-align: top;\n",
       "    }\n",
       "\n",
       "    .dataframe thead th {\n",
       "        text-align: right;\n",
       "    }\n",
       "</style>\n",
       "<table border=\"1\" class=\"dataframe\">\n",
       "  <thead>\n",
       "    <tr style=\"text-align: right;\">\n",
       "      <th></th>\n",
       "      <th>id</th>\n",
       "      <th>brand</th>\n",
       "      <th>categories</th>\n",
       "      <th>colors</th>\n",
       "      <th>condition</th>\n",
       "      <th>isSale</th>\n",
       "      <th>price</th>\n",
       "    </tr>\n",
       "  </thead>\n",
       "  <tbody>\n",
       "    <tr>\n",
       "      <th>0</th>\n",
       "      <td>AVpfEf_hLJeJML431ueH</td>\n",
       "      <td>Naturalizer</td>\n",
       "      <td>Clothing,Heels,All Women's Shoes,Shoes,Sandals...</td>\n",
       "      <td>[Silver, Cream]</td>\n",
       "      <td>USED</td>\n",
       "      <td>False</td>\n",
       "      <td>55.990</td>\n",
       "    </tr>\n",
       "    <tr>\n",
       "      <th>1</th>\n",
       "      <td>AVpi74XfLJeJML43qZAc</td>\n",
       "      <td>MUK LUKS</td>\n",
       "      <td>Clothing,All Women's Shoes,Women's Casual Shoe...</td>\n",
       "      <td>[Grey]</td>\n",
       "      <td>NEW</td>\n",
       "      <td>True</td>\n",
       "      <td>41.125</td>\n",
       "    </tr>\n",
       "    <tr>\n",
       "      <th>2</th>\n",
       "      <td>AVpi74XfLJeJML43qZAc</td>\n",
       "      <td>MUK LUKS</td>\n",
       "      <td>Clothing,All Women's Shoes,Women's Casual Shoe...</td>\n",
       "      <td>[Grey]</td>\n",
       "      <td>NEW</td>\n",
       "      <td>False</td>\n",
       "      <td>35.250</td>\n",
       "    </tr>\n",
       "    <tr>\n",
       "      <th>3</th>\n",
       "      <td>AVpjXyCc1cnluZ0-V-Gj</td>\n",
       "      <td>MUK LUKS</td>\n",
       "      <td>Clothing,All Women's Shoes,Shoes,Women's Shoes...</td>\n",
       "      <td>[Black]</td>\n",
       "      <td>NEW</td>\n",
       "      <td>False</td>\n",
       "      <td>24.750</td>\n",
       "    </tr>\n",
       "    <tr>\n",
       "      <th>4</th>\n",
       "      <td>AVphGKLPilAPnD_x1Nrm</td>\n",
       "      <td>MUK LUKS</td>\n",
       "      <td>Clothing,All Women's Shoes,Shoes,Women's Shoes...</td>\n",
       "      <td>[Grey]</td>\n",
       "      <td>NEW</td>\n",
       "      <td>True</td>\n",
       "      <td>31.695</td>\n",
       "    </tr>\n",
       "  </tbody>\n",
       "</table>\n",
       "</div>"
      ],
      "text/plain": [
       "                     id        brand  \\\n",
       "0  AVpfEf_hLJeJML431ueH  Naturalizer   \n",
       "1  AVpi74XfLJeJML43qZAc     MUK LUKS   \n",
       "2  AVpi74XfLJeJML43qZAc     MUK LUKS   \n",
       "3  AVpjXyCc1cnluZ0-V-Gj     MUK LUKS   \n",
       "4  AVphGKLPilAPnD_x1Nrm     MUK LUKS   \n",
       "\n",
       "                                          categories           colors  \\\n",
       "0  Clothing,Heels,All Women's Shoes,Shoes,Sandals...  [Silver, Cream]   \n",
       "1  Clothing,All Women's Shoes,Women's Casual Shoe...           [Grey]   \n",
       "2  Clothing,All Women's Shoes,Women's Casual Shoe...           [Grey]   \n",
       "3  Clothing,All Women's Shoes,Shoes,Women's Shoes...          [Black]   \n",
       "4  Clothing,All Women's Shoes,Shoes,Women's Shoes...           [Grey]   \n",
       "\n",
       "  condition  isSale   price  \n",
       "0      USED   False  55.990  \n",
       "1       NEW    True  41.125  \n",
       "2       NEW   False  35.250  \n",
       "3       NEW   False  24.750  \n",
       "4       NEW    True  31.695  "
      ]
     },
     "execution_count": 295,
     "metadata": {},
     "output_type": "execute_result"
    }
   ],
   "source": [
    "#tratando a coluna categories \n",
    "df['categories'] = (pd.DataFrame(df.categories.tolist())\n",
    "                      .fillna('')\n",
    "                      .astype(str)\n",
    "                      .agg(','.join, 1)\n",
    "                      .str.strip(','))\n",
    "df.head()"
   ]
  },
  {
   "cell_type": "code",
   "execution_count": 296,
   "metadata": {},
   "outputs": [
    {
     "data": {
      "text/plain": [
       "array(['Naturalizer', 'MUK LUKS', 'Soft Ones', 'muk luks', 'Sloggers',\n",
       "       \"Dr. Scholl's\", 'Genuine Dickies', 'Mo Mo', 'SKECHERS',\n",
       "       'lc lauren conrad', 'FOREVER YOUNG', 'Unbranded', 'Faded Glory',\n",
       "       'qupid', 'olivia miller', 'Victoria K.', 'Keds', 'herstar',\n",
       "       'Earth Spirit', 'Unique Bargains', 'lifestride',\n",
       "       'naturalsoul by naturalizer', 'Lugz', 'lugz',\n",
       "       'style charles by charles david', 'nyla', 'Daniel Green', 'corkys',\n",
       "       'IB Non-Slip', 'Silver Lilly', 'ELLIE SHOES', 'SoftWalk',\n",
       "       'Brinley Co.', 'MLB', 'easy street', 'Danskin Now',\n",
       "       'forever collectibles', 'Carrini', 'Riverberry',\n",
       "       'journee collection', 'eastland', 'so', 'dolce by mojo moxy',\n",
       "       'under armour', 'koolaburra by ugg', 'skechers', 'puma', 'adidas',\n",
       "       'new balance', 'rampage', 'vans', 'croft barrow', 'candies',\n",
       "       'simply vera vera wang', 'apt. 9', 'jennifer lopez',\n",
       "       'sonoma goods for life', 'soft style by hush puppies', 'keds',\n",
       "       'Laredo', 'rocky 4eursole', 'ryka', 'dr. scholls', 'Ryka',\n",
       "       'Lifestride', 'Fergalicious', 'fila', 'a2 by aerosoles',\n",
       "       'henry ferrera', 'andrew geller', 'nike', 'spring step', 'seven7',\n",
       "       'Brinley Co. Collection', 'madden nyc', 'Easy Street', 'Nike',\n",
       "       'betula by birkenstock', 'kisses by 2 lips too', '2 lips too',\n",
       "       'reef', 'unionbay', 'k-swiss', 'sugar', 'clarks', 'asics',\n",
       "       'La Sportiva', \"Arc'teryx\", 'Topo Athletic', 'Chaco', 'Scarpa',\n",
       "       'Soludos', 'New Balance', 'Birkenstock', 'Splendid',\n",
       "       'Native Shoes', 'Brooks', 'Merrell', 'Salomon', 'Asics', 'Saucony',\n",
       "       'Red Wing', 'Altra', 'Adidas', 'Frye', 'Under Armour',\n",
       "       'Adidas Outdoor', 'SeaVees', 'Seychelles Footwear',\n",
       "       'The North Face', 'On Footwear', 'Hoka One One', 'Mammut',\n",
       "       'Inov 8', 'Salewa', 'Toms', 'Vans', 'UGG', 'Astral', 'Timberland',\n",
       "       'Olukai', 'KEEN', 'Dansko', 'Free People', 'Sperry Top-Sider',\n",
       "       'Bogs', 'Lowa', 'Kaanas', 'OTZShoes'], dtype=object)"
      ]
     },
     "execution_count": 296,
     "metadata": {},
     "output_type": "execute_result"
    }
   ],
   "source": [
    "#valores unicos de marca podem ser normalizados. Tratar para minúsculo \n",
    "df['brand'].unique()"
   ]
  },
  {
   "cell_type": "code",
   "execution_count": 264,
   "metadata": {},
   "outputs": [],
   "source": [
    "#tratando para eliminar diferenças entre maiúsculo e minúsculo\n",
    "df['colors'] = df['colors'].str.lower()\n",
    "df['categories'] = df['categories'].str.lower()\n",
    "df['brand'] = df['brand'].str.lower()"
   ]
  },
  {
   "cell_type": "code",
   "execution_count": 307,
   "metadata": {},
   "outputs": [
    {
     "name": "stdout",
     "output_type": "stream",
     "text": [
      "Registros únicos\n",
      "\n",
      "brand : 116\n",
      "categories :198\n",
      "colors : 223\n"
     ]
    }
   ],
   "source": [
    "#registros únicos\n",
    "print('Registros únicos\\n')\n",
    "print('brand : {}'.format(df['brand'].nunique()))\n",
    "print('categories :{}'.format(df['categories'].nunique()))\n",
    "print('colors : {}'.format( df['colors'].nunique()))"
   ]
  },
  {
   "cell_type": "markdown",
   "metadata": {},
   "source": [
    "Cores estão em lista, tratar para string e quebrar cada cor em uma nova linha, para clusterizar por cor."
   ]
  },
  {
   "cell_type": "code",
   "execution_count": 303,
   "metadata": {},
   "outputs": [
    {
     "data": {
      "text/plain": [
       "[NA]                                                       7369\n",
       "[Pure, Blackchrome-Aurora]                                  185\n",
       "[Black]                                                     177\n",
       "[White]                                                     165\n",
       "[Stone, Dark, Black, Black, Luxe, Silver, Stone, Black]     157\n",
       "[Brown]                                                     114\n",
       "[Grey, Taupe, Black, Stone]                                  94\n",
       "[Tan]                                                        92\n",
       "[Navy, White, Pewter, Soft, Black, Punch]                    86\n",
       "[Grey, Black, Taupe]                                         84\n",
       "Name: colors, dtype: int64"
      ]
     },
     "execution_count": 303,
     "metadata": {},
     "output_type": "execute_result"
    }
   ],
   "source": [
    "#cores como lista, tem repetição ex: Black 2 vezes\n",
    "df['colors'].value_counts().head(10)"
   ]
  },
  {
   "cell_type": "code",
   "execution_count": 304,
   "metadata": {},
   "outputs": [
    {
     "data": {
      "text/html": [
       "<div>\n",
       "<style scoped>\n",
       "    .dataframe tbody tr th:only-of-type {\n",
       "        vertical-align: middle;\n",
       "    }\n",
       "\n",
       "    .dataframe tbody tr th {\n",
       "        vertical-align: top;\n",
       "    }\n",
       "\n",
       "    .dataframe thead th {\n",
       "        text-align: right;\n",
       "    }\n",
       "</style>\n",
       "<table border=\"1\" class=\"dataframe\">\n",
       "  <thead>\n",
       "    <tr style=\"text-align: right;\">\n",
       "      <th></th>\n",
       "      <th>id</th>\n",
       "      <th>colors</th>\n",
       "    </tr>\n",
       "  </thead>\n",
       "  <tbody>\n",
       "    <tr>\n",
       "      <th>0</th>\n",
       "      <td>AVpfEf_hLJeJML431ueH</td>\n",
       "      <td>Silver</td>\n",
       "    </tr>\n",
       "    <tr>\n",
       "      <th>0</th>\n",
       "      <td>AVpfEf_hLJeJML431ueH</td>\n",
       "      <td>Cream</td>\n",
       "    </tr>\n",
       "    <tr>\n",
       "      <th>1</th>\n",
       "      <td>AVpi74XfLJeJML43qZAc</td>\n",
       "      <td>Grey</td>\n",
       "    </tr>\n",
       "    <tr>\n",
       "      <th>2</th>\n",
       "      <td>AVpi74XfLJeJML43qZAc</td>\n",
       "      <td>Grey</td>\n",
       "    </tr>\n",
       "    <tr>\n",
       "      <th>3</th>\n",
       "      <td>AVpjXyCc1cnluZ0-V-Gj</td>\n",
       "      <td>Black</td>\n",
       "    </tr>\n",
       "    <tr>\n",
       "      <th>4</th>\n",
       "      <td>AVphGKLPilAPnD_x1Nrm</td>\n",
       "      <td>Grey</td>\n",
       "    </tr>\n",
       "    <tr>\n",
       "      <th>5</th>\n",
       "      <td>AVpg91ziilAPnD_xziOo</td>\n",
       "      <td>Brown</td>\n",
       "    </tr>\n",
       "    <tr>\n",
       "      <th>6</th>\n",
       "      <td>AVpjGKXyLJeJML43r8BH</td>\n",
       "      <td>Navy</td>\n",
       "    </tr>\n",
       "    <tr>\n",
       "      <th>6</th>\n",
       "      <td>AVpjGKXyLJeJML43r8BH</td>\n",
       "      <td>Burgundy</td>\n",
       "    </tr>\n",
       "    <tr>\n",
       "      <th>6</th>\n",
       "      <td>AVpjGKXyLJeJML43r8BH</td>\n",
       "      <td>Brown</td>\n",
       "    </tr>\n",
       "  </tbody>\n",
       "</table>\n",
       "</div>"
      ],
      "text/plain": [
       "                     id    colors\n",
       "0  AVpfEf_hLJeJML431ueH    Silver\n",
       "0  AVpfEf_hLJeJML431ueH     Cream\n",
       "1  AVpi74XfLJeJML43qZAc      Grey\n",
       "2  AVpi74XfLJeJML43qZAc      Grey\n",
       "3  AVpjXyCc1cnluZ0-V-Gj     Black\n",
       "4  AVphGKLPilAPnD_x1Nrm      Grey\n",
       "5  AVpg91ziilAPnD_xziOo     Brown\n",
       "6  AVpjGKXyLJeJML43r8BH      Navy\n",
       "6  AVpjGKXyLJeJML43r8BH  Burgundy\n",
       "6  AVpjGKXyLJeJML43r8BH     Brown"
      ]
     },
     "execution_count": 304,
     "metadata": {},
     "output_type": "execute_result"
    }
   ],
   "source": [
    "#Quebra de valores distintos em uma coluna em linhas\n",
    "df = df.explode('colors')\n",
    "#vizualizando que agora temos para o mesmo id linhas diferentes por cores\n",
    "df[['id','colors']].head(10)\n",
    "\n",
    "#pode haver duplicação nos casos em que a palavra Black aparece duas vezes e isso será tratado! "
   ]
  },
  {
   "cell_type": "code",
   "execution_count": 306,
   "metadata": {},
   "outputs": [
    {
     "name": "stdout",
     "output_type": "stream",
     "text": [
      "Registros únicos após tratamento\n",
      "\n",
      "brand : 116\n",
      "categories :198\n",
      "colors : 223\n"
     ]
    }
   ],
   "source": [
    "#registros únicos\n",
    "print('Registros únicos após tratamento\\n')\n",
    "df['brand'] = df['brand'].str.lower()\n",
    "df['categories'] = df['categories'].str.lower()\n",
    "df['colors'] = df['colors'].str.lower()\n",
    "\n",
    "#registros únicos minúsculo\n",
    "print('brand : {}'.format(df['brand'].nunique()))\n",
    "print('categories :{}'.format(df['categories'].nunique()))\n",
    "print('colors : {}'.format( df['colors'].nunique()))"
   ]
  },
  {
   "cell_type": "markdown",
   "metadata": {},
   "source": [
    "Cores estão em lista, tratar para string e quebrar cada cor em uma nova linha, para clusterizar por cor."
   ]
  },
  {
   "cell_type": "code",
   "execution_count": 313,
   "metadata": {},
   "outputs": [
    {
     "name": "stdout",
     "output_type": "stream",
     "text": [
      "Total com possíveis duplicados: 18765\n",
      "Total sem  duplicados: 1084\n"
     ]
    }
   ],
   "source": [
    "#linhas duplicadas no dataframe precisarão ser dropadas após essa quebra\n",
    "print('Total com possíveis duplicados: {tam1}'.format(tam1 =len(df[['id','colors']])))\n",
    "print('Total sem  duplicados: {tam2}'.format(tam2=len(df[['id','colors']].drop_duplicates(inplace=False, keep='first'))))\n",
    "\n",
    "\n",
    "\n",
    "#print('Total com possíveis duplicados: {tam2}'.format(tam2=len(df[['id','colors']].drop_duplicates(inplace=False))))\n",
    "#print('\\n Total sem duplicados {tam2}'.format(tam1 =len(df[['id','colors']].drop_duplicates(inplace=False))\n"
   ]
  },
  {
   "cell_type": "code",
   "execution_count": 326,
   "metadata": {},
   "outputs": [],
   "source": [
    "#vamos remover agora as duplicações de linhas de nosso df\n",
    "df = df.drop_duplicates( keep='first')"
   ]
  },
  {
   "cell_type": "code",
   "execution_count": 327,
   "metadata": {},
   "outputs": [
    {
     "data": {
      "text/html": [
       "<div>\n",
       "<style scoped>\n",
       "    .dataframe tbody tr th:only-of-type {\n",
       "        vertical-align: middle;\n",
       "    }\n",
       "\n",
       "    .dataframe tbody tr th {\n",
       "        vertical-align: top;\n",
       "    }\n",
       "\n",
       "    .dataframe thead th {\n",
       "        text-align: right;\n",
       "    }\n",
       "</style>\n",
       "<table border=\"1\" class=\"dataframe\">\n",
       "  <thead>\n",
       "    <tr style=\"text-align: right;\">\n",
       "      <th></th>\n",
       "      <th>id</th>\n",
       "      <th>brand</th>\n",
       "      <th>categories</th>\n",
       "      <th>colors</th>\n",
       "      <th>condition</th>\n",
       "      <th>isSale</th>\n",
       "      <th>price</th>\n",
       "    </tr>\n",
       "  </thead>\n",
       "  <tbody>\n",
       "    <tr>\n",
       "      <th>0</th>\n",
       "      <td>AVpfEf_hLJeJML431ueH</td>\n",
       "      <td>naturalizer</td>\n",
       "      <td>clothing,heels,all women's shoes,shoes,sandals...</td>\n",
       "      <td>silver</td>\n",
       "      <td>USED</td>\n",
       "      <td>False</td>\n",
       "      <td>55.990</td>\n",
       "    </tr>\n",
       "    <tr>\n",
       "      <th>0</th>\n",
       "      <td>AVpfEf_hLJeJML431ueH</td>\n",
       "      <td>naturalizer</td>\n",
       "      <td>clothing,heels,all women's shoes,shoes,sandals...</td>\n",
       "      <td>cream</td>\n",
       "      <td>USED</td>\n",
       "      <td>False</td>\n",
       "      <td>55.990</td>\n",
       "    </tr>\n",
       "    <tr>\n",
       "      <th>1</th>\n",
       "      <td>AVpi74XfLJeJML43qZAc</td>\n",
       "      <td>muk luks</td>\n",
       "      <td>clothing,all women's shoes,women's casual shoe...</td>\n",
       "      <td>grey</td>\n",
       "      <td>NEW</td>\n",
       "      <td>True</td>\n",
       "      <td>41.125</td>\n",
       "    </tr>\n",
       "    <tr>\n",
       "      <th>2</th>\n",
       "      <td>AVpi74XfLJeJML43qZAc</td>\n",
       "      <td>muk luks</td>\n",
       "      <td>clothing,all women's shoes,women's casual shoe...</td>\n",
       "      <td>grey</td>\n",
       "      <td>NEW</td>\n",
       "      <td>False</td>\n",
       "      <td>35.250</td>\n",
       "    </tr>\n",
       "    <tr>\n",
       "      <th>3</th>\n",
       "      <td>AVpjXyCc1cnluZ0-V-Gj</td>\n",
       "      <td>muk luks</td>\n",
       "      <td>clothing,all women's shoes,shoes,women's shoes...</td>\n",
       "      <td>black</td>\n",
       "      <td>NEW</td>\n",
       "      <td>False</td>\n",
       "      <td>24.750</td>\n",
       "    </tr>\n",
       "  </tbody>\n",
       "</table>\n",
       "</div>"
      ],
      "text/plain": [
       "                     id        brand  \\\n",
       "0  AVpfEf_hLJeJML431ueH  naturalizer   \n",
       "0  AVpfEf_hLJeJML431ueH  naturalizer   \n",
       "1  AVpi74XfLJeJML43qZAc     muk luks   \n",
       "2  AVpi74XfLJeJML43qZAc     muk luks   \n",
       "3  AVpjXyCc1cnluZ0-V-Gj     muk luks   \n",
       "\n",
       "                                          categories  colors condition  \\\n",
       "0  clothing,heels,all women's shoes,shoes,sandals...  silver      USED   \n",
       "0  clothing,heels,all women's shoes,shoes,sandals...   cream      USED   \n",
       "1  clothing,all women's shoes,women's casual shoe...    grey       NEW   \n",
       "2  clothing,all women's shoes,women's casual shoe...    grey       NEW   \n",
       "3  clothing,all women's shoes,shoes,women's shoes...   black       NEW   \n",
       "\n",
       "   isSale   price  \n",
       "0   False  55.990  \n",
       "0   False  55.990  \n",
       "1    True  41.125  \n",
       "2   False  35.250  \n",
       "3   False  24.750  "
      ]
     },
     "execution_count": 327,
     "metadata": {},
     "output_type": "execute_result"
    }
   ],
   "source": [
    "df.head()"
   ]
  },
  {
   "cell_type": "code",
   "execution_count": 338,
   "metadata": {},
   "outputs": [
    {
     "data": {
      "text/plain": [
       "False    2574\n",
       "True      286\n",
       "Name: isSale, dtype: int64"
      ]
     },
     "execution_count": 338,
     "metadata": {},
     "output_type": "execute_result"
    }
   ],
   "source": [
    "df['isSale'].value_counts().head(10)"
   ]
  },
  {
   "cell_type": "code",
   "execution_count": 339,
   "metadata": {},
   "outputs": [
    {
     "data": {
      "text/plain": [
       "USED    2288\n",
       "NEW      572\n",
       "Name: condition, dtype: int64"
      ]
     },
     "execution_count": 339,
     "metadata": {},
     "output_type": "execute_result"
    }
   ],
   "source": [
    "df['condition'].value_counts().head(10)"
   ]
  },
  {
   "cell_type": "code",
   "execution_count": 340,
   "metadata": {},
   "outputs": [
    {
     "data": {
      "text/plain": [
       "Text(0.5, 0, 'Price - ISale')"
      ]
     },
     "execution_count": 340,
     "metadata": {},
     "output_type": "execute_result"
    },
    {
     "data": {
      "image/png": "[encoded data removed]",
      "text/plain": [
       "<Figure size 720x432 with 1 Axes>"
      ]
     },
     "metadata": {},
     "output_type": "display_data"
    }
   ],
   "source": [
    "sns.set()\n",
    " \n",
    "\n",
    "\n",
    "plt.figure(figsize=(10,6))\n",
    "df[df['isSale']==True]['price'].hist(alpha=0.5,color='blue',\n",
    "                                              bins=30,label='isSale=True')\n",
    "df[df['isSale']==False]['price'].hist(alpha=0.5,color='red',\n",
    "                                              bins=30,label='isSale=False')\n",
    "plt.legend()\n",
    "plt.xlabel('Price - ISale')"
   ]
  },
  {
   "cell_type": "code",
   "execution_count": null,
   "metadata": {},
   "outputs": [],
   "source": [
    "Distribuição de preços é bem comportada e lembra uma Gaussiana (Normal)"
   ]
  },
  {
   "cell_type": "code",
   "execution_count": 341,
   "metadata": {},
   "outputs": [
    {
     "data": {
      "text/plain": [
       "Text(0.5, 0, 'Price - Condition')"
      ]
     },
     "execution_count": 341,
     "metadata": {},
     "output_type": "execute_result"
    },
    {
     "data": {
      "image/png": "[encoded data removed]",
      "text/plain": [
       "<Figure size 720x432 with 1 Axes>"
      ]
     },
     "metadata": {},
     "output_type": "display_data"
    }
   ],
   "source": [
    "sns.set()\n",
    " \n",
    "\n",
    "\n",
    "plt.figure(figsize=(10,6))\n",
    "df[df['condition']=='NEW']['price'].hist(alpha=0.5,color='blue',\n",
    "                                              bins=30,label='condition=NEW')\n",
    "df[df['condition']=='USED']['price'].hist(alpha=0.5,color='red',\n",
    "                                              bins=30,label='condition=USED')\n",
    "plt.legend()\n",
    "plt.xlabel('Price - Condition')"
   ]
  },
  {
   "cell_type": "markdown",
   "metadata": {},
   "source": [
    "# Normalização"
   ]
  },
  {
   "cell_type": "code",
   "execution_count": 342,
   "metadata": {},
   "outputs": [
    {
     "data": {
      "text/html": [
       "<div>\n",
       "<style scoped>\n",
       "    .dataframe tbody tr th:only-of-type {\n",
       "        vertical-align: middle;\n",
       "    }\n",
       "\n",
       "    .dataframe tbody tr th {\n",
       "        vertical-align: top;\n",
       "    }\n",
       "\n",
       "    .dataframe thead th {\n",
       "        text-align: right;\n",
       "    }\n",
       "</style>\n",
       "<table border=\"1\" class=\"dataframe\">\n",
       "  <thead>\n",
       "    <tr style=\"text-align: right;\">\n",
       "      <th></th>\n",
       "      <th>price_sc</th>\n",
       "      <th>price</th>\n",
       "    </tr>\n",
       "  </thead>\n",
       "  <tbody>\n",
       "    <tr>\n",
       "      <th>count</th>\n",
       "      <td>2.860000e+03</td>\n",
       "      <td>2860.000000</td>\n",
       "    </tr>\n",
       "    <tr>\n",
       "      <th>mean</th>\n",
       "      <td>2.407359e-16</td>\n",
       "      <td>62.750351</td>\n",
       "    </tr>\n",
       "    <tr>\n",
       "      <th>std</th>\n",
       "      <td>1.000175e+00</td>\n",
       "      <td>26.737527</td>\n",
       "    </tr>\n",
       "    <tr>\n",
       "      <th>min</th>\n",
       "      <td>-2.146249e+00</td>\n",
       "      <td>5.375000</td>\n",
       "    </tr>\n",
       "    <tr>\n",
       "      <th>25%</th>\n",
       "      <td>-5.334392e-01</td>\n",
       "      <td>48.490000</td>\n",
       "    </tr>\n",
       "    <tr>\n",
       "      <th>50%</th>\n",
       "      <td>-2.360523e-01</td>\n",
       "      <td>56.440000</td>\n",
       "    </tr>\n",
       "    <tr>\n",
       "      <th>75%</th>\n",
       "      <td>2.708147e-01</td>\n",
       "      <td>69.990000</td>\n",
       "    </tr>\n",
       "    <tr>\n",
       "      <th>max</th>\n",
       "      <td>1.111739e+01</td>\n",
       "      <td>359.950000</td>\n",
       "    </tr>\n",
       "  </tbody>\n",
       "</table>\n",
       "</div>"
      ],
      "text/plain": [
       "           price_sc        price\n",
       "count  2.860000e+03  2860.000000\n",
       "mean   2.407359e-16    62.750351\n",
       "std    1.000175e+00    26.737527\n",
       "min   -2.146249e+00     5.375000\n",
       "25%   -5.334392e-01    48.490000\n",
       "50%   -2.360523e-01    56.440000\n",
       "75%    2.708147e-01    69.990000\n",
       "max    1.111739e+01   359.950000"
      ]
     },
     "execution_count": 342,
     "metadata": {},
     "output_type": "execute_result"
    }
   ],
   "source": [
    "# normalizar dados\n",
    "from sklearn.preprocessing import StandardScaler\n",
    "scaler = StandardScaler()\n",
    "df['price_sc']= scaler.fit_transform(df['price'].values.reshape(-1, 1))\n",
    "# statisticas do dado normalizado\n",
    "pd.DataFrame(df[['price_sc','price']]).describe()"
   ]
  },
  {
   "cell_type": "markdown",
   "metadata": {},
   "source": [
    "# ML- Clusterização K-Means "
   ]
  },
  {
   "cell_type": "code",
   "execution_count": 343,
   "metadata": {},
   "outputs": [],
   "source": [
    "#Encodando com one hote enconding por dummys\n",
    "X = pd.get_dummies(df, columns=['categories','colors','condition'])"
   ]
  },
  {
   "cell_type": "code",
   "execution_count": 344,
   "metadata": {},
   "outputs": [
    {
     "data": {
      "text/html": [
       "<div>\n",
       "<style scoped>\n",
       "    .dataframe tbody tr th:only-of-type {\n",
       "        vertical-align: middle;\n",
       "    }\n",
       "\n",
       "    .dataframe tbody tr th {\n",
       "        vertical-align: top;\n",
       "    }\n",
       "\n",
       "    .dataframe thead th {\n",
       "        text-align: right;\n",
       "    }\n",
       "</style>\n",
       "<table border=\"1\" class=\"dataframe\">\n",
       "  <thead>\n",
       "    <tr style=\"text-align: right;\">\n",
       "      <th></th>\n",
       "      <th>id</th>\n",
       "      <th>brand</th>\n",
       "      <th>isSale</th>\n",
       "      <th>price</th>\n",
       "      <th>price_sc</th>\n",
       "      <th>categories_2 lips too,shoes,boots,womens</th>\n",
       "      <th>categories_a2 by aerosoles,shoes,clogs,mules,womens</th>\n",
       "      <th>categories_andrew geller,shoes,sandals,womens</th>\n",
       "      <th>categories_asics,womens,athletic shoes,shoes,sneakers</th>\n",
       "      <th>categories_betula by birkenstock,shoes,sandals,womens</th>\n",
       "      <th>...</th>\n",
       "      <th>colors_white</th>\n",
       "      <th>colors_whitebrooke</th>\n",
       "      <th>colors_whitefire</th>\n",
       "      <th>colors_whitegrey</th>\n",
       "      <th>colors_whitewhite</th>\n",
       "      <th>colors_wine</th>\n",
       "      <th>colors_wood</th>\n",
       "      <th>colors_yellow</th>\n",
       "      <th>condition_NEW</th>\n",
       "      <th>condition_USED</th>\n",
       "    </tr>\n",
       "  </thead>\n",
       "  <tbody>\n",
       "    <tr>\n",
       "      <th>0</th>\n",
       "      <td>AVpfEf_hLJeJML431ueH</td>\n",
       "      <td>naturalizer</td>\n",
       "      <td>False</td>\n",
       "      <td>55.990</td>\n",
       "      <td>-0.252886</td>\n",
       "      <td>0</td>\n",
       "      <td>0</td>\n",
       "      <td>0</td>\n",
       "      <td>0</td>\n",
       "      <td>0</td>\n",
       "      <td>...</td>\n",
       "      <td>0</td>\n",
       "      <td>0</td>\n",
       "      <td>0</td>\n",
       "      <td>0</td>\n",
       "      <td>0</td>\n",
       "      <td>0</td>\n",
       "      <td>0</td>\n",
       "      <td>0</td>\n",
       "      <td>0</td>\n",
       "      <td>1</td>\n",
       "    </tr>\n",
       "    <tr>\n",
       "      <th>0</th>\n",
       "      <td>AVpfEf_hLJeJML431ueH</td>\n",
       "      <td>naturalizer</td>\n",
       "      <td>False</td>\n",
       "      <td>55.990</td>\n",
       "      <td>-0.252886</td>\n",
       "      <td>0</td>\n",
       "      <td>0</td>\n",
       "      <td>0</td>\n",
       "      <td>0</td>\n",
       "      <td>0</td>\n",
       "      <td>...</td>\n",
       "      <td>0</td>\n",
       "      <td>0</td>\n",
       "      <td>0</td>\n",
       "      <td>0</td>\n",
       "      <td>0</td>\n",
       "      <td>0</td>\n",
       "      <td>0</td>\n",
       "      <td>0</td>\n",
       "      <td>0</td>\n",
       "      <td>1</td>\n",
       "    </tr>\n",
       "    <tr>\n",
       "      <th>1</th>\n",
       "      <td>AVpi74XfLJeJML43qZAc</td>\n",
       "      <td>muk luks</td>\n",
       "      <td>True</td>\n",
       "      <td>41.125</td>\n",
       "      <td>-0.808943</td>\n",
       "      <td>0</td>\n",
       "      <td>0</td>\n",
       "      <td>0</td>\n",
       "      <td>0</td>\n",
       "      <td>0</td>\n",
       "      <td>...</td>\n",
       "      <td>0</td>\n",
       "      <td>0</td>\n",
       "      <td>0</td>\n",
       "      <td>0</td>\n",
       "      <td>0</td>\n",
       "      <td>0</td>\n",
       "      <td>0</td>\n",
       "      <td>0</td>\n",
       "      <td>1</td>\n",
       "      <td>0</td>\n",
       "    </tr>\n",
       "    <tr>\n",
       "      <th>2</th>\n",
       "      <td>AVpi74XfLJeJML43qZAc</td>\n",
       "      <td>muk luks</td>\n",
       "      <td>False</td>\n",
       "      <td>35.250</td>\n",
       "      <td>-1.028710</td>\n",
       "      <td>0</td>\n",
       "      <td>0</td>\n",
       "      <td>0</td>\n",
       "      <td>0</td>\n",
       "      <td>0</td>\n",
       "      <td>...</td>\n",
       "      <td>0</td>\n",
       "      <td>0</td>\n",
       "      <td>0</td>\n",
       "      <td>0</td>\n",
       "      <td>0</td>\n",
       "      <td>0</td>\n",
       "      <td>0</td>\n",
       "      <td>0</td>\n",
       "      <td>1</td>\n",
       "      <td>0</td>\n",
       "    </tr>\n",
       "    <tr>\n",
       "      <th>3</th>\n",
       "      <td>AVpjXyCc1cnluZ0-V-Gj</td>\n",
       "      <td>muk luks</td>\n",
       "      <td>False</td>\n",
       "      <td>24.750</td>\n",
       "      <td>-1.421485</td>\n",
       "      <td>0</td>\n",
       "      <td>0</td>\n",
       "      <td>0</td>\n",
       "      <td>0</td>\n",
       "      <td>0</td>\n",
       "      <td>...</td>\n",
       "      <td>0</td>\n",
       "      <td>0</td>\n",
       "      <td>0</td>\n",
       "      <td>0</td>\n",
       "      <td>0</td>\n",
       "      <td>0</td>\n",
       "      <td>0</td>\n",
       "      <td>0</td>\n",
       "      <td>1</td>\n",
       "      <td>0</td>\n",
       "    </tr>\n",
       "  </tbody>\n",
       "</table>\n",
       "<p>5 rows × 428 columns</p>\n",
       "</div>"
      ],
      "text/plain": [
       "                     id        brand  isSale   price  price_sc  \\\n",
       "0  AVpfEf_hLJeJML431ueH  naturalizer   False  55.990 -0.252886   \n",
       "0  AVpfEf_hLJeJML431ueH  naturalizer   False  55.990 -0.252886   \n",
       "1  AVpi74XfLJeJML43qZAc     muk luks    True  41.125 -0.808943   \n",
       "2  AVpi74XfLJeJML43qZAc     muk luks   False  35.250 -1.028710   \n",
       "3  AVpjXyCc1cnluZ0-V-Gj     muk luks   False  24.750 -1.421485   \n",
       "\n",
       "   categories_2 lips too,shoes,boots,womens  \\\n",
       "0                                         0   \n",
       "0                                         0   \n",
       "1                                         0   \n",
       "2                                         0   \n",
       "3                                         0   \n",
       "\n",
       "   categories_a2 by aerosoles,shoes,clogs,mules,womens  \\\n",
       "0                                                  0     \n",
       "0                                                  0     \n",
       "1                                                  0     \n",
       "2                                                  0     \n",
       "3                                                  0     \n",
       "\n",
       "   categories_andrew geller,shoes,sandals,womens  \\\n",
       "0                                              0   \n",
       "0                                              0   \n",
       "1                                              0   \n",
       "2                                              0   \n",
       "3                                              0   \n",
       "\n",
       "   categories_asics,womens,athletic shoes,shoes,sneakers  \\\n",
       "0                                                  0       \n",
       "0                                                  0       \n",
       "1                                                  0       \n",
       "2                                                  0       \n",
       "3                                                  0       \n",
       "\n",
       "   categories_betula by birkenstock,shoes,sandals,womens  ...  colors_white  \\\n",
       "0                                                  0      ...             0   \n",
       "0                                                  0      ...             0   \n",
       "1                                                  0      ...             0   \n",
       "2                                                  0      ...             0   \n",
       "3                                                  0      ...             0   \n",
       "\n",
       "   colors_whitebrooke  colors_whitefire  colors_whitegrey  colors_whitewhite  \\\n",
       "0                   0                 0                 0                  0   \n",
       "0                   0                 0                 0                  0   \n",
       "1                   0                 0                 0                  0   \n",
       "2                   0                 0                 0                  0   \n",
       "3                   0                 0                 0                  0   \n",
       "\n",
       "   colors_wine  colors_wood  colors_yellow  condition_NEW  condition_USED  \n",
       "0            0            0              0              0               1  \n",
       "0            0            0              0              0               1  \n",
       "1            0            0              0              1               0  \n",
       "2            0            0              0              1               0  \n",
       "3            0            0              0              1               0  \n",
       "\n",
       "[5 rows x 428 columns]"
      ]
     },
     "execution_count": 344,
     "metadata": {},
     "output_type": "execute_result"
    }
   ],
   "source": [
    "X.head()"
   ]
  },
  {
   "cell_type": "code",
   "execution_count": 345,
   "metadata": {},
   "outputs": [
    {
     "data": {
      "text/plain": [
       "Index(['price_sc', 'categories_2 lips too,shoes,boots,womens',\n",
       "       'categories_a2 by aerosoles,shoes,clogs,mules,womens',\n",
       "       'categories_andrew geller,shoes,sandals,womens',\n",
       "       'categories_asics,womens,athletic shoes,shoes,sneakers',\n",
       "       'categories_betula by birkenstock,shoes,sandals,womens',\n",
       "       'categories_candie's,shoes,boots,womens',\n",
       "       'categories_candie's,shoes,flats,womens',\n",
       "       'categories_clothing,all men's shoes,all women's shoes,shoes,men's shoes,women's shoes,women's slippers',\n",
       "       'categories_clothing,all men's shoes,shoes,eastland,men's shoes,boat shoes,womens',\n",
       "       ...\n",
       "       'colors_white', 'colors_whitebrooke', 'colors_whitefire',\n",
       "       'colors_whitegrey', 'colors_whitewhite', 'colors_wine', 'colors_wood',\n",
       "       'colors_yellow', 'condition_NEW', 'condition_USED'],\n",
       "      dtype='object', length=424)"
      ]
     },
     "execution_count": 345,
     "metadata": {},
     "output_type": "execute_result"
    }
   ],
   "source": [
    "#retirado o preço não normalizado e as features não solicitadas no desafio\n",
    "X.drop(columns=['price', 'id','brand','isSale'], inplace = True)\n",
    "X.columns"
   ]
  },
  {
   "cell_type": "markdown",
   "metadata": {},
   "source": [
    "# 1 - Você deve usar o algoritmo de sua preferência para agrupar os sapatos de acordo com condition, categories e colors disponíveis gerando 4 clusters."
   ]
  },
  {
   "cell_type": "code",
   "execution_count": 346,
   "metadata": {},
   "outputs": [],
   "source": [
    "from sklearn.cluster import KMeans\n",
    "from numpy import unique\n",
    "from numpy import where\n",
    "\n",
    "# define o modelo\n",
    "model = KMeans(n_clusters=4)\n",
    "# fita o modelo\n",
    "model.fit(X)\n",
    "# assinala um cluster para cada linha em X \n",
    "yhat = model.predict(X)\n"
   ]
  },
  {
   "cell_type": "code",
   "execution_count": 347,
   "metadata": {},
   "outputs": [],
   "source": [
    "#cria coluna no dataframe com os clusters\n",
    "df['cluster'] = yhat"
   ]
  },
  {
   "cell_type": "markdown",
   "metadata": {},
   "source": [
    "# 2 - Para cada cluster encontrado, você deve calcular o preço médio e o desvio padrão de preço."
   ]
  },
  {
   "cell_type": "code",
   "execution_count": 348,
   "metadata": {},
   "outputs": [
    {
     "data": {
      "text/html": [
       "<div>\n",
       "<style scoped>\n",
       "    .dataframe tbody tr th:only-of-type {\n",
       "        vertical-align: middle;\n",
       "    }\n",
       "\n",
       "    .dataframe tbody tr th {\n",
       "        vertical-align: top;\n",
       "    }\n",
       "\n",
       "    .dataframe thead tr th {\n",
       "        text-align: left;\n",
       "    }\n",
       "\n",
       "    .dataframe thead tr:last-of-type th {\n",
       "        text-align: right;\n",
       "    }\n",
       "</style>\n",
       "<table border=\"1\" class=\"dataframe\">\n",
       "  <thead>\n",
       "    <tr>\n",
       "      <th></th>\n",
       "      <th colspan=\"4\" halign=\"left\">price</th>\n",
       "    </tr>\n",
       "    <tr>\n",
       "      <th></th>\n",
       "      <th>min</th>\n",
       "      <th>max</th>\n",
       "      <th>mean</th>\n",
       "      <th>std</th>\n",
       "    </tr>\n",
       "    <tr>\n",
       "      <th>cluster</th>\n",
       "      <th></th>\n",
       "      <th></th>\n",
       "      <th></th>\n",
       "      <th></th>\n",
       "    </tr>\n",
       "  </thead>\n",
       "  <tbody>\n",
       "    <tr>\n",
       "      <th>0</th>\n",
       "      <td>5.375</td>\n",
       "      <td>78.90</td>\n",
       "      <td>38.578587</td>\n",
       "      <td>15.436978</td>\n",
       "    </tr>\n",
       "    <tr>\n",
       "      <th>1</th>\n",
       "      <td>15.745</td>\n",
       "      <td>99.99</td>\n",
       "      <td>57.491983</td>\n",
       "      <td>13.642822</td>\n",
       "    </tr>\n",
       "    <tr>\n",
       "      <th>2</th>\n",
       "      <td>14.865</td>\n",
       "      <td>95.00</td>\n",
       "      <td>56.560309</td>\n",
       "      <td>11.570654</td>\n",
       "    </tr>\n",
       "    <tr>\n",
       "      <th>3</th>\n",
       "      <td>78.950</td>\n",
       "      <td>359.95</td>\n",
       "      <td>119.938520</td>\n",
       "      <td>29.219430</td>\n",
       "    </tr>\n",
       "  </tbody>\n",
       "</table>\n",
       "</div>"
      ],
      "text/plain": [
       "          price                               \n",
       "            min     max        mean        std\n",
       "cluster                                       \n",
       "0         5.375   78.90   38.578587  15.436978\n",
       "1        15.745   99.99   57.491983  13.642822\n",
       "2        14.865   95.00   56.560309  11.570654\n",
       "3        78.950  359.95  119.938520  29.219430"
      ]
     },
     "execution_count": 348,
     "metadata": {},
     "output_type": "execute_result"
    }
   ],
   "source": [
    "df[['price','cluster']].groupby('cluster').agg(['min', 'max', 'mean','std'])"
   ]
  },
  {
   "cell_type": "markdown",
   "metadata": {},
   "source": [
    "# 3 - Como bônus, você pode apresentar os clusters num gráfico, mas essa etapa não é obrigatória."
   ]
  },
  {
   "cell_type": "code",
   "execution_count": 349,
   "metadata": {},
   "outputs": [
    {
     "data": {
      "image/png": "[encoded data removed]",
      "text/plain": [
       "<Figure size 432x288 with 1 Axes>"
      ]
     },
     "metadata": {},
     "output_type": "display_data"
    },
    {
     "data": {
      "image/png": "[encoded data removed]",
      "text/plain": [
       "<Figure size 432x288 with 1 Axes>"
      ]
     },
     "metadata": {},
     "output_type": "display_data"
    },
    {
     "data": {
      "image/png": "[encoded data removed]",
      "text/plain": [
       "<Figure size 432x288 with 1 Axes>"
      ]
     },
     "metadata": {},
     "output_type": "display_data"
    }
   ],
   "source": [
    "labels = yhat\n",
    "plt.scatter(df['condition'], df['price_sc'], c=labels, cmap='Set1')\n",
    "plt.xticks([])  \n",
    "plt.title('Cluster - Condition x Price')\n",
    "plt.ylabel('Price - Normalizado')\n",
    "plt.show()\n",
    "\n",
    "plt.scatter(df['categories'], df['price_sc'], c=labels, cmap='Set1')\n",
    "plt.xticks([])\n",
    "plt.title('Cluster - Categories x Price')\n",
    "plt.ylabel('Price - Normalizado')\n",
    "plt.show()\n",
    "\n",
    "plt.scatter(df['colors'], df['price_sc'], c=labels, cmap='Set1')\n",
    "plt.xticks([])  \n",
    "plt.ylabel('Price - Normalizado')\n",
    "plt.title('Cluster - Colors x Price')\n",
    "\n",
    " \n",
    "plt.show()"
   ]
  },
  {
   "cell_type": "markdown",
   "metadata": {},
   "source": [
    "# Método Elbow para quantidade ótima de clusters "
   ]
  },
  {
   "cell_type": "code",
   "execution_count": 350,
   "metadata": {},
   "outputs": [
    {
     "data": {
      "text/plain": [
       "Text(0, 0.5, 'Inertia')"
      ]
     },
     "execution_count": 350,
     "metadata": {},
     "output_type": "execute_result"
    },
    {
     "data": {
      "image/png": "[encoded data removed]",
      "text/plain": [
       "<Figure size 864x432 with 1 Axes>"
      ]
     },
     "metadata": {},
     "output_type": "display_data"
    }
   ],
   "source": [
    "# fitting multiple k-means algorithms and storing the values in an empty list\n",
    "SSE = []\n",
    "for cluster in range(1,20):\n",
    "    kmeans = KMeans(n_clusters = cluster, init='k-means++')\n",
    "    kmeans.fit(X) #dataframe normalizado\n",
    "    SSE.append(kmeans.inertia_)\n",
    "\n",
    "# converting the results into a dataframe and plotting them\n",
    "frame = pd.DataFrame({'Cluster':range(1,20), 'SSE':SSE})\n",
    "plt.figure(figsize=(12,6))\n",
    "plt.plot(frame['Cluster'], frame['SSE'], marker='o')\n",
    "plt.xlabel('Number of clusters')\n",
    "plt.ylabel('Inertia')"
   ]
  },
  {
   "cell_type": "markdown",
   "metadata": {},
   "source": [
    "O melhor a recomendação pelo método seriam 5 Clusters! "
   ]
  },
  {
   "cell_type": "markdown",
   "metadata": {},
   "source": [
    "# PCA - reduzindo dimensionalidade para montar Quatro clusters."
   ]
  },
  {
   "cell_type": "code",
   "execution_count": 355,
   "metadata": {},
   "outputs": [],
   "source": [
    "from sklearn.decomposition import PCA # Needed for dimension reduction\n",
    "pca = PCA()\n",
    "principalComponents = pca.fit_transform(X)\n",
    "\n",
    "\n",
    "PC = range(1, pca.n_components_+1)\n",
    "\n",
    "\n",
    "# Putting components in a dataframe for later\n",
    "PCA_components = pd.DataFrame(principalComponents)"
   ]
  },
  {
   "cell_type": "code",
   "execution_count": 356,
   "metadata": {},
   "outputs": [
    {
     "data": {
      "image/png": "[encoded data removed]",
      "text/plain": [
       "<Figure size 432x288 with 1 Axes>"
      ]
     },
     "metadata": {},
     "output_type": "display_data"
    }
   ],
   "source": [
    "plt.scatter(PCA_components[0], PCA_components[1], alpha=.3, color='gray')\n",
    "plt.xlabel('PCA 1')\n",
    "plt.ylabel('PCA 2')\n",
    "plt.show()"
   ]
  },
  {
   "cell_type": "code",
   "execution_count": 357,
   "metadata": {
    "scrolled": true
   },
   "outputs": [
    {
     "data": {
      "image/png": "[encoded data removed]",
      "text/plain": [
       "<Figure size 432x288 with 1 Axes>"
      ]
     },
     "metadata": {},
     "output_type": "display_data"
    }
   ],
   "source": [
    "model = KMeans(n_clusters=4)\n",
    "model.fit(PCA_components.iloc[:,:2])\n",
    "\n",
    "labels = model.predict(PCA_components.iloc[:,:2])\n",
    "plt.scatter(PCA_components[0], PCA_components[1], c=labels, cmap='Dark2')\n",
    "plt.show()"
   ]
  },
  {
   "cell_type": "code",
   "execution_count": null,
   "metadata": {},
   "outputs": [],
   "source": []
  },
  {
   "cell_type": "code",
   "execution_count": null,
   "metadata": {},
   "outputs": [],
   "source": []
  },
  {
   "cell_type": "code",
   "execution_count": null,
   "metadata": {},
   "outputs": [],
   "source": []
  },
  {
   "cell_type": "code",
   "execution_count": null,
   "metadata": {},
   "outputs": [],
   "source": []
  },
  {
   "cell_type": "code",
   "execution_count": null,
   "metadata": {},
   "outputs": [],
   "source": []
  },
  {
   "cell_type": "code",
   "execution_count": null,
   "metadata": {},
   "outputs": [],
   "source": []
  }
 ],
 "metadata": {
  "kernelspec": {
   "display_name": "Python 3",
   "language": "python",
   "name": "python3"
  },
  "language_info": {
   "codemirror_mode": {
    "name": "ipython",
    "version": 3
   },
   "file_extension": ".py",
   "mimetype": "text/x-python",
   "name": "python",
   "nbconvert_exporter": "python",
   "pygments_lexer": "ipython3",
   "version": "3.8.3"
  }
 },
 "nbformat": 4,
 "nbformat_minor": 2
}
